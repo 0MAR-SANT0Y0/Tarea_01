{
  "nbformat": 4,
  "nbformat_minor": 0,
  "metadata": {
    "colab": {
      "name": "Tarea_01.ipynb",
      "provenance": [],
      "collapsed_sections": []
    },
    "kernelspec": {
      "name": "python3",
      "display_name": "Python 3"
    }
  },
  "cells": [
    {
      "cell_type": "markdown",
      "metadata": {
        "id": "r9ZYrza4KqRS"
      },
      "source": [
        "Primera tarea: Funciones desarrolladas;\n",
        "Alumno: Omar Santoyo Camargo;\n",
        "Grupo: 2SV1."
      ]
    },
    {
      "cell_type": "markdown",
      "metadata": {
        "id": "DnQHsExKNI8F"
      },
      "source": [
        "1. Desarrollar un programa que lea una variable de tipo entera value, indique si es un número\n",
        "par o impar.\n"
      ]
    },
    {
      "cell_type": "code",
      "metadata": {
        "id": "ZiQZ2eThNPaT"
      },
      "source": [
        "num1= int(input(\"digite un numero: \"))\n",
        "if num1%2==0:\n",
        "  if num1==0:\n",
        "    print(\"El numero es cero: \")\n",
        "  else:\n",
        "        print(\"El numero es par: \")\n",
        "else:\n",
        "          print(\"El numero es impar: \")\n",
        "print(\"fin del programa.\")"
      ],
      "execution_count": null,
      "outputs": []
    },
    {
      "cell_type": "markdown",
      "metadata": {
        "id": "PauLi1SHNXcR"
      },
      "source": [
        "2. Desarrolle un programa en el que el usuario introduzca una cadena de caracteres y un número\n",
        "entero, después el programa debe de imprimir la cadena de caracteres tantas veces como el\n",
        "número entero\n",
        "Ejemplo: Si el usuario introduce la cadena de caracteres I <3 IPN y después introduce 3,la\n",
        "salida del programa debe de ser\n",
        "I <3 IPN\n",
        "I <3 IPN\n",
        "I <3 IPN\n"
      ]
    },
    {
      "cell_type": "code",
      "metadata": {
        "id": "HmK_9SwLNmLT"
      },
      "source": [
        "print(\"Ingrese una cadea de caracteres\")\n",
        "cadena= input()\n",
        "print(\"Digite el numero entero que desee: \")\n",
        "N=int(input())\n",
        "cont=0\n",
        "while cont<N:\n",
        "  cont+=1\n",
        "  print(cadena)\n",
        "print(\"Fin del programa.\")"
      ],
      "execution_count": null,
      "outputs": []
    },
    {
      "cell_type": "markdown",
      "metadata": {
        "id": "v56Et7iBwWn2"
      },
      "source": [
        "3. Escribir una función que reciba como argumentos el número de horas y el costo por hora dejarlo\n",
        "como argumento predefinido en 150 la función debe de regresar el pago del empleado en un\n",
        "día, en una semana (5 días) y en un mes (20 días).\n"
      ]
    },
    {
      "cell_type": "code",
      "metadata": {
        "id": "-1aD-6vewrZV"
      },
      "source": [
        "print(\"Bienvenido aqui le diremos su ganancia por numero de horas de trabajo\")\n",
        "print(\"De el numero de horas que ha trabajado\")\n",
        "horas= int(input())\n",
        "if horas>1:\n",
        "  a=(horas*150)\n",
        "  print(\"Su sueldo diario es:\", a)\n",
        "  b=(horas*150*5)\n",
        "  print(\"Su sueldo semanal es:\", b)\n",
        "  c=(horas*150*20)\n",
        "  print(\"Su sueldo mensual es:\", c)\n",
        "print(\"Fin del programa\")\n"
      ],
      "execution_count": null,
      "outputs": []
    },
    {
      "cell_type": "markdown",
      "metadata": {
        "id": "xHmpvedLw2sd"
      },
      "source": [
        "4. Escribir el código de una calculadora, que inicialmente muestre el menú y dependiendo de la\n",
        "opción elegida por el usuario se desarrolle la operación, observe que en la división el denominador no puede ser cero, en caso que sea así, debe de entrar en un bucle while que esté leyendo\n",
        "el denominador de nuevo hasta que éste sea distinto de cero\n",
        "a. suma                                        b. resta                                     c. multiplicación                            d. división                          Introduzca una opción:\n"
      ]
    },
    {
      "cell_type": "code",
      "metadata": {
        "id": "cW4pCiHYxJbJ"
      },
      "source": [
        "print(\"CALCULADORA\")\n",
        "print(\"Que operacion quiere realizar\")\n",
        "print(\"a)Suma\")\n",
        "print(\"b)Resta\")\n",
        "print(\"c)Multiplicacion\")\n",
        "print(\"d)Division\")\n",
        "print(\"e)Potencia\")\n",
        "ope= input(\"Elija la operacion a realizar: \")\n",
        "if ope=='a':\n",
        "  print(\"suma\")\n",
        "  x= float(input(\"De el valor de x: \"))\n",
        "  y= float(input(\"De el valor de y: \"))\n",
        "  resultado= x+y\n",
        "  print(\"El resultado es:\", resultado)\n",
        "elif ope=='b':\n",
        "  print(\"Resta\")\n",
        "  x= float(input(\"De el valor de x: \"))\n",
        "  y= float(input(\"De el valor de y: \"))\n",
        "  resultado= x-y\n",
        "  print(\"El resultado es:\", resultado)\n",
        "elif ope=='c':\n",
        "  print(\"Multiplicacion\")\n",
        "  x= float(input(\"De el valor de x: \"))\n",
        "  y= float(input(\"De el valor de y: \"))\n",
        "  resultado= x*y\n",
        "  print(\"El resultado es:\", resultado)\n",
        "if ope=='d':\n",
        "  print(\"Division\") \n",
        "  x= float(input(\"Introduzca el valor de x: \"))\n",
        "  y= float(input(\"Introduzca el valor de y: \"))\n",
        "  while y==0:\n",
        "    print(\"Digite un numero diferente de 0\")\n",
        "    y=float(input())\n",
        "  resultado= x/y\n",
        "  print(\"El resultado es:\", resultado)\n",
        "if ope=='e':\n",
        "  print(\"Potencia\")\n",
        "  x= float(input(\"Introduzca el valor de x: \"))\n",
        "  y= float(input(\"Introduzca el valor de y: \"))\n",
        "  resultado= x**y\n",
        "  print(\"El resultado es:\", resultado)\n",
        "print(\"Fin del programa.\")\n",
        "\n"
      ],
      "execution_count": null,
      "outputs": []
    },
    {
      "cell_type": "markdown",
      "metadata": {
        "id": "BjFjvCVkxKNM"
      },
      "source": [
        "5. Una tienda de juguetes tiene dos productos estrella, un payaso y un juego de mesa, el payaso\n",
        "pesa 150 gr y el juego de mesa pesa 170 gr. Hacer una función que reciba el núermo de payasos\n",
        "y el número de juegos de mesa por pedido, si el peso total del pedido es mayor a 10 kg, debe de mandar error, debe de inidicar por cuántos gramos se pasó el envío y debe de regresar False\n",
        "al programa principal.\n"
      ]
    },
    {
      "cell_type": "code",
      "metadata": {
        "id": "4u--fKPKcuzT"
      },
      "source": [
        "print(\"Bienvenido a la tienda de juguetes, ordene su pedido: \")\n",
        "print(\"Si su pedido exede los 10Kg, no sera valida su compra: \")\n",
        "payaso= int(input(\"Cuantos payasos quiere: \"))\n",
        "juegodemesa= int(input(\"Cuantos juegos de mesa quiere: \"))\n",
        "if payaso>=0 and juegodemesa>=0:\n",
        "  a=((payaso*150)/1000)+((juegodemesa*170)/1000)\n",
        "if a<=10000/1000:\n",
        "    print(\"El peso de su pedido es: \", a,\"Kg\")\n",
        "elif a>10000/1000:\n",
        "  Exede=a-10000/1000\n",
        "  print(\"Error\")\n",
        "  print(\"Exede:\", Exede,\"Kg\")\n",
        "print(\"\", a<=10000/1000)\n",
        "print(\"Fin del programa.\")\n",
        "\n",
        "  \n",
        "\n"
      ],
      "execution_count": null,
      "outputs": []
    },
    {
      "cell_type": "markdown",
      "metadata": {
        "id": "YFRxQmHbxi79"
      },
      "source": [
        "6. Suponga que el impuesto que se debe de pagar por el salario ganado esté regido por la siguiente\n",
        "tabla\n",
        "      Ingreso                  Impuesto\n",
        "   Menos de 10 mil                5%\n",
        "  Entre 10 mil y 15 mil          10%\n",
        "  Entre 15 mil y 20 mil          15%\n",
        "     Más de 20 mil               18%\n",
        "Desarrolle una función que acepte como argumento el salario, y la función debe de mostrar el rango en que se encuentra, y debe de regresar el salario con el descuento del impuesto, si la función se ha podido desarrollar con éxito, debe de regresar True\n",
        "\n"
      ]
    },
    {
      "cell_type": "code",
      "metadata": {
        "id": "5Mt2vi8cx5kt"
      },
      "source": [
        "sueldo= int(input(\"Ingrese su sueldo\"))\n",
        "if sueldo<=10000:\n",
        "  print(\"impuesto del 5%\")\n",
        "  imp=(sueldo*.05)\n",
        "  sueldof=(sueldo-imp)\n",
        "  print(\"su sueldo final es:\", sueldof)\n",
        "elif sueldo<=15000:\n",
        "  print(\"impuesto del 10%\")\n",
        "  imp=(sueldo*.10)\n",
        "  sueldof=(sueldo-imp)\n",
        "  print(\"Su sueldo final es:\", sueldof)\n",
        "elif sueldo<=20000:\n",
        "  print(\"impuesto del 15%\")\n",
        "  imp=(sueldo*.15)\n",
        "  sueldof=(sueldo-imp)\n",
        "  print(\"Su sueldo final es:\", sueldof)\n",
        "elif sueldo>20000:\n",
        "  print(\"impuesto del 18%\")\n",
        "  imp=(sueldo*.18)\n",
        "  sueldof=(sueldo-imp)\n",
        "  print(\"Su sueldo final es:\", sueldof)\n",
        "print(\"\",sueldo>0)\n",
        "print(\"Fin del programa.\")"
      ],
      "execution_count": null,
      "outputs": []
    },
    {
      "cell_type": "markdown",
      "metadata": {
        "id": "v_6rh4BMx6pF"
      },
      "source": [
        "7. Escribir un programa para un museo, donde se deben de mandar a una función los siguientes\n",
        "parámetros, edad y ocupación. Se deben de aplicar los siguintes costos y descuentos\n",
        "Rango de edad: Impuesto:\n",
        "Menor de cuatro años: Gratis,\n",
        "Entre 4 y 16 años: $50,\n",
        "Adultos: $100,\n",
        "Table 2: Costos,\n",
        "Concepto Impuesto\n",
        "Estudiante con credencial: 10%,\n",
        "Docente con credencial: 30%,\n",
        "INAPAM: 50%.\n"
      ]
    },
    {
      "cell_type": "code",
      "metadata": {
        "id": "O-xTzpRyx-sj"
      },
      "source": [
        "print(\"Bue dia, para ingresar al museo debemos saber algunos datos para darle los costos\")\n",
        "print(\"Introduzca su edad\")\n",
        "edad= int(input())\n",
        "if edad<4:\n",
        "  print(\"Gratis\")\n",
        "  a=0\n",
        "elif edad<=16:\n",
        "  print(\"costo 50 pesos\")\n",
        "  a=50\n",
        "elif edad>16:\n",
        "  print(\"costo 100 pesos\")\n",
        "  a=100\n",
        "print(\"Indique su profesion\")\n",
        "print(\"a) Estudiante con credencial\")\n",
        "print(\"b) Docente con credencial\")\n",
        "print(\"c) INAPAM\")\n",
        "print(\"d) Ninguna\")\n",
        "prof= input(\"Elija una opcion:\")\n",
        "b=0\n",
        "if prof=='a':\n",
        "  print(\"Tiene un 10% de descuento\")\n",
        "  b=(a*.1)\n",
        "elif prof=='b':\n",
        "  print(\"Tiene un 30% de descuento\")\n",
        "  b=(a*.3)\n",
        "elif prof=='c':\n",
        "  print(\"Tiene un 50% de descueto\")\n",
        "  b=(a*.5)\n",
        "else:\n",
        "    print(\"No hay descuento ´Sorry´\")\n",
        "c=(a-b)\n",
        "print(\"El costo de su entrada es\", c)\n",
        "print(\"Gracias por su visita que se divierta\")"
      ],
      "execution_count": null,
      "outputs": []
    },
    {
      "cell_type": "markdown",
      "metadata": {
        "id": "_8aI7Dk9x--J"
      },
      "source": [
        "8. Escribir un programa que pida al usuario un número entero y muestre en pantalla un tríangulo rectángulo como el que se muestra. Ejemplo: si el usuario ha introducido 4 se debe de mostrar el siguiente patrón.\n",
        "*\n",
        "**\n",
        "***\n",
        "****\n"
      ]
    },
    {
      "cell_type": "code",
      "metadata": {
        "id": "MrcQ10RvyB45"
      },
      "source": [
        "print(\"Este programa crea un triangulo rectangulo dependiendo del numero que se ingrese: \")\n",
        "n=int(input(\"Ingrese el numero de veces: \"))\n",
        "for i in range(n+1):\n",
        "  print(\"*\"*i)\n",
        "print(\"Fin del programa.\")"
      ],
      "execution_count": null,
      "outputs": []
    },
    {
      "cell_type": "markdown",
      "metadata": {
        "id": "d0hHzd1ZftVL"
      },
      "source": [
        "9. Escribir una función que reciba un número entero positivo y devuelva su factorial\n"
      ]
    },
    {
      "cell_type": "code",
      "metadata": {
        "id": "_Zkqhk0i97WN"
      },
      "source": [
        "print(\"Este programa calcula el factorial de un numero entero: \")\n",
        "n=int(input(\"Ingrese un numero entero: \"))\n",
        "fact=1\n",
        "for i in range(n):\n",
        "  fact*=n\n",
        "  n-=1\n",
        "print(\"El factorial es: \", fact)\n",
        "print(\"Fin del programa.\")\n"
      ],
      "execution_count": null,
      "outputs": []
    },
    {
      "cell_type": "markdown",
      "metadata": {
        "id": "rCz4-3J_9_3x"
      },
      "source": [
        "10. Escribir una función que calcule el área de un círculo y ota que calcule el volumen de un cilindro utilizando la primera función."
      ]
    },
    {
      "cell_type": "code",
      "metadata": {
        "id": "IwHPHngS-I3-"
      },
      "source": [
        "print(\"Este programa calcula el area de un circulo y el volumen de un cilindro\")\n",
        "pi=3.141559265\n",
        "r=int(input(\"Ingrese el radio del circulo\"))\n",
        "A=pi*(r**2)\n",
        "print(\"El area del circulo es: \", A)\n",
        "h=int(input(\"Ingrese la altura del cilindro: \"))\n",
        "V=A*h\n",
        "print(\"El volumen del cilindro es: \", V)\n",
        "print(\"Fin del programa.\")"
      ],
      "execution_count": null,
      "outputs": []
    }
  ]
}